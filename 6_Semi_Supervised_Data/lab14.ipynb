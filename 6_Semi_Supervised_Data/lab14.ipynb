{
 "cells": [
  {
   "cell_type": "markdown",
   "id": "a568fec4",
   "metadata": {},
   "source": [
    "# Semi-supervised Data"
   ]
  },
  {
   "cell_type": "code",
   "execution_count": null,
   "id": "7bb0c0de",
   "metadata": {},
   "outputs": [
    {
     "name": "stdout",
     "output_type": "stream",
     "text": [
      "Naive SVC accuracy: 0.82\n",
      "Self-training accuracy: 0.82\n",
      "Label Propagation accuracy: 0.7733333333333333\n",
      "Label Spreading accuracy: 0.7933333333333333\n"
     ]
    },
    {
     "name": "stderr",
     "output_type": "stream",
     "text": [
      "c:\\Users\\admin\\AppData\\Local\\Programs\\Python\\Python311\\Lib\\site-packages\\sklearn\\semi_supervised\\_label_propagation.py:318: ConvergenceWarning: max_iter=1000 was reached without convergence.\n",
      "  warnings.warn(\n"
     ]
    }
   ],
   "source": [
    "import numpy as np\n",
    "from sklearn.datasets import make_classification\n",
    "from sklearn.model_selection import train_test_split\n",
    "from sklearn.metrics import accuracy_score\n",
    "from sklearn.svm import SVC\n",
    "from sklearn.semi_supervised import SelfTrainingClassifier, LabelPropagation, LabelSpreading\n",
    "\n",
    "X, y = make_classification(n_samples=1000, n_features=20, n_informative=15, \n",
    "                           n_classes=2, random_state=42)\n",
    "X_train, X_test, y_train_full, y_test = train_test_split(X, y, test_size=0.3, random_state=42)\n",
    "\n",
    "# Create semi-supervised training data\n",
    "rng = np.random.RandomState(42)\n",
    "n_labeled = 100\n",
    "indices = np.arange(len(X_train))\n",
    "rng.shuffle(indices)\n",
    "y_train = np.copy(y_train_full)\n",
    "y_train[indices[n_labeled:]] = -1  # Unlabeled data\n",
    "\n",
    "# Naive method: Train only on labeled data\n",
    "svc_naive = SVC(probability=True)\n",
    "svc_naive.fit(X_train[indices[:n_labeled]], y_train_full[indices[:n_labeled]])\n",
    "y_pred_naive = svc_naive.predict(X_test)\n",
    "print(\"Naive SVC accuracy:\", accuracy_score(y_test, y_pred_naive))\n",
    "\n",
    "# Self-training\n",
    "self_training = SelfTrainingClassifier(base_estimator=SVC(probability=True), criterion='k_best', k_best=50)\n",
    "self_training.fit(X_train, y_train)\n",
    "y_pred_self = self_training.predict(X_test)\n",
    "print(\"Self-training accuracy:\", accuracy_score(y_test, y_pred_self))\n",
    "\n",
    "# Label Propagation\n",
    "label_prop = LabelPropagation(kernel='rbf', gamma=0.25)\n",
    "label_prop.fit(X_train, y_train)\n",
    "y_pred_lp = label_prop.predict(X_test)\n",
    "print(\"Label Propagation accuracy:\", accuracy_score(y_test, y_pred_lp))\n",
    "\n",
    "# Label Spreading\n",
    "label_spread = LabelSpreading(kernel='rbf', gamma=0.25)\n",
    "label_spread.fit(X_train, y_train)\n",
    "y_pred_ls = label_spread.predict(X_test)\n",
    "print(\"Label Spreading accuracy:\", accuracy_score(y_test, y_pred_ls))\n"
   ]
  }
 ],
 "metadata": {
  "kernelspec": {
   "display_name": "Python 3",
   "language": "python",
   "name": "python3"
  },
  "language_info": {
   "codemirror_mode": {
    "name": "ipython",
    "version": 3
   },
   "file_extension": ".py",
   "mimetype": "text/x-python",
   "name": "python",
   "nbconvert_exporter": "python",
   "pygments_lexer": "ipython3",
   "version": "3.11.6"
  }
 },
 "nbformat": 4,
 "nbformat_minor": 5
}
